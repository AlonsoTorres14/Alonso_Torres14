{
 "cells": [
  {
   "cell_type": "code",
   "execution_count": 1,
   "metadata": {},
   "outputs": [
    {
     "name": "stdout",
     "output_type": "stream",
     "text": [
      "How old are you?: \n",
      "Age 1: 56\n",
      "Age 2: 45\n",
      "Age 3: 45\n",
      "The sample mean is:  48.666666666666664\n"
     ]
    }
   ],
   "source": [
    "print(\"How old are you?: \")\n",
    "Age_1 = int(input(\"Age 1: \"))\n",
    "Age_2 = int(input(\"Age 2: \"))\n",
    "Age_3 = int(input(\"Age 3: \"))\n",
    "\n",
    "Mean = ((Age_1 + Age_2 + Age_3)/3)\n",
    "print(\"The sample mean is: \", Mean)"
   ]
  },
  {
   "cell_type": "code",
   "execution_count": null,
   "metadata": {},
   "outputs": [],
   "source": []
  }
 ],
 "metadata": {
  "kernelspec": {
   "display_name": "Python 3",
   "language": "python",
   "name": "python3"
  },
  "language_info": {
   "codemirror_mode": {
    "name": "ipython",
    "version": 3
   },
   "file_extension": ".py",
   "mimetype": "text/x-python",
   "name": "python",
   "nbconvert_exporter": "python",
   "pygments_lexer": "ipython3",
   "version": "3.7.3"
  }
 },
 "nbformat": 4,
 "nbformat_minor": 2
}
